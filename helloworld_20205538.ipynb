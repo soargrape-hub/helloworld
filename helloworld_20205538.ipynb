{
  "nbformat": 4,
  "nbformat_minor": 0,
  "metadata": {
    "colab": {
      "name": "helloworld_20205538ipynb",
      "provenance": [],
      "authorship_tag": "ABX9TyOEPpitqxdq4PESFiJtstN6",
      "include_colab_link": true
    },
    "kernelspec": {
      "name": "python3",
      "display_name": "Python 3"
    }
  },
  "cells": [
    {
      "cell_type": "markdown",
      "metadata": {
        "id": "view-in-github",
        "colab_type": "text"
      },
      "source": [
        "<a href=\"https://colab.research.google.com/github/soargrape-hub/helloworld/blob/main/helloworld_20205538.ipynb\" target=\"_parent\"><img src=\"https://colab.research.google.com/assets/colab-badge.svg\" alt=\"Open In Colab\"/></a>"
      ]
    },
    {
      "cell_type": "code",
      "metadata": {
        "id": "rmpXAJ4zxV2b",
        "outputId": "50609e5c-971a-4251-ff4a-2d3ddd6599f3",
        "colab": {
          "base_uri": "https://localhost:8080/",
          "height": 34
        }
      },
      "source": [
        "print('hello world',20205538)"
      ],
      "execution_count": 2,
      "outputs": [
        {
          "output_type": "stream",
          "text": [
            "hello world 20205538\n"
          ],
          "name": "stdout"
        }
      ]
    }
  ]
}